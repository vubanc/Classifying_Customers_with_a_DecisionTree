{
 "cells": [
  {
   "cell_type": "markdown",
   "id": "f56e316c",
   "metadata": {},
   "source": [
    "# Classifying Customers with a Decision Tree"
   ]
  },
  {
   "cell_type": "markdown",
   "id": "c7d613e9",
   "metadata": {},
   "source": [
    "The objective of this project is to classify customers into different income groups based on their gender, age, spending socre, profession and work experience. The dataset for the project contains data from 2000 customers. A decision tree has been built and trained on a training subset of the data and then tested on a testing subset."
   ]
  },
  {
   "cell_type": "markdown",
   "id": "008e14d9",
   "metadata": {},
   "source": [
    "## Imporitng libraries and dataset"
   ]
  },
  {
   "cell_type": "code",
   "execution_count": 6,
   "id": "100243f8",
   "metadata": {},
   "outputs": [],
   "source": [
    "import pandas as pd\n",
    "import numpy as np\n",
    "\n",
    "import matplotlib.pyplot as plt\n",
    "import seaborn as sns\n",
    "\n",
    "from sklearn.model_selection import train_test_split\n",
    "from sklearn.preprocessing import OneHotEncoder\n",
    "from sklearn.metrics import accuracy_score"
   ]
  },
  {
   "cell_type": "code",
   "execution_count": 7,
   "id": "fb2eddf6",
   "metadata": {},
   "outputs": [],
   "source": [
    "#columns = ['sepal_length', 'sepal_width', 'petal_length', 'petal_width', 'species']\n",
    "#df = pd.read_csv('Iris.csv', skiprows=1, header=None, names=columns)\n",
    "\n",
    "#dfx = pd.read_csv(\"breast-cancer.csv\", usecols=[\"radius_mean\", \"perimeter_mean\", \"area_mean\"])\n",
    "#dfy = pd.read_csv(\"breast-cancer.csv\", usecols=[1])\n",
    "#df = pd.concat([dfx,dfy], axis=1)\n",
    "\n",
    "df = pd.read_csv(\"customers.csv\", usecols=[\"Gender\", \"Age\", \"Annual Income ($)\", \"Spending Score (1-100)\", \"Profession\", \"Work Experience\", \"Family Size\"])\n"
   ]
  },
  {
   "cell_type": "markdown",
   "id": "58e9310f",
   "metadata": {},
   "source": [
    "## Data preprocessing "
   ]
  },
  {
   "cell_type": "code",
   "execution_count": 42,
   "id": "5a87aab2",
   "metadata": {},
   "outputs": [
    {
     "data": {
      "text/plain": [
       "(2000, 7)"
      ]
     },
     "execution_count": 42,
     "metadata": {},
     "output_type": "execute_result"
    }
   ],
   "source": [
    "df.shape"
   ]
  },
  {
   "cell_type": "code",
   "execution_count": 43,
   "id": "abf95030",
   "metadata": {},
   "outputs": [
    {
     "data": {
      "text/html": [
       "<div>\n",
       "<style scoped>\n",
       "    .dataframe tbody tr th:only-of-type {\n",
       "        vertical-align: middle;\n",
       "    }\n",
       "\n",
       "    .dataframe tbody tr th {\n",
       "        vertical-align: top;\n",
       "    }\n",
       "\n",
       "    .dataframe thead th {\n",
       "        text-align: right;\n",
       "    }\n",
       "</style>\n",
       "<table border=\"1\" class=\"dataframe\">\n",
       "  <thead>\n",
       "    <tr style=\"text-align: right;\">\n",
       "      <th></th>\n",
       "      <th>Gender</th>\n",
       "      <th>Age</th>\n",
       "      <th>Annual Income ($)</th>\n",
       "      <th>Spending Score (1-100)</th>\n",
       "      <th>Profession</th>\n",
       "      <th>Work Experience</th>\n",
       "      <th>Family Size</th>\n",
       "    </tr>\n",
       "  </thead>\n",
       "  <tbody>\n",
       "    <tr>\n",
       "      <th>0</th>\n",
       "      <td>Male</td>\n",
       "      <td>19</td>\n",
       "      <td>15000</td>\n",
       "      <td>39</td>\n",
       "      <td>Healthcare</td>\n",
       "      <td>1</td>\n",
       "      <td>4</td>\n",
       "    </tr>\n",
       "    <tr>\n",
       "      <th>1</th>\n",
       "      <td>Male</td>\n",
       "      <td>21</td>\n",
       "      <td>35000</td>\n",
       "      <td>81</td>\n",
       "      <td>Engineer</td>\n",
       "      <td>3</td>\n",
       "      <td>3</td>\n",
       "    </tr>\n",
       "    <tr>\n",
       "      <th>2</th>\n",
       "      <td>Female</td>\n",
       "      <td>20</td>\n",
       "      <td>86000</td>\n",
       "      <td>6</td>\n",
       "      <td>Engineer</td>\n",
       "      <td>1</td>\n",
       "      <td>1</td>\n",
       "    </tr>\n",
       "    <tr>\n",
       "      <th>3</th>\n",
       "      <td>Female</td>\n",
       "      <td>23</td>\n",
       "      <td>59000</td>\n",
       "      <td>77</td>\n",
       "      <td>Lawyer</td>\n",
       "      <td>0</td>\n",
       "      <td>2</td>\n",
       "    </tr>\n",
       "    <tr>\n",
       "      <th>4</th>\n",
       "      <td>Female</td>\n",
       "      <td>31</td>\n",
       "      <td>38000</td>\n",
       "      <td>40</td>\n",
       "      <td>Entertainment</td>\n",
       "      <td>2</td>\n",
       "      <td>6</td>\n",
       "    </tr>\n",
       "  </tbody>\n",
       "</table>\n",
       "</div>"
      ],
      "text/plain": [
       "   Gender  Age  Annual Income ($)  Spending Score (1-100)     Profession  \\\n",
       "0    Male   19              15000                      39     Healthcare   \n",
       "1    Male   21              35000                      81       Engineer   \n",
       "2  Female   20              86000                       6       Engineer   \n",
       "3  Female   23              59000                      77         Lawyer   \n",
       "4  Female   31              38000                      40  Entertainment   \n",
       "\n",
       "   Work Experience  Family Size  \n",
       "0                1            4  \n",
       "1                3            3  \n",
       "2                1            1  \n",
       "3                0            2  \n",
       "4                2            6  "
      ]
     },
     "execution_count": 43,
     "metadata": {},
     "output_type": "execute_result"
    }
   ],
   "source": [
    "df.head()"
   ]
  },
  {
   "cell_type": "code",
   "execution_count": 41,
   "id": "f2dff410",
   "metadata": {},
   "outputs": [
    {
     "data": {
      "text/plain": [
       "<AxesSubplot:>"
      ]
     },
     "execution_count": 41,
     "metadata": {},
     "output_type": "execute_result"
    },
    {
     "data": {
      "image/png": "[encoded data removed]",
      "text/plain": [
       "<Figure size 640x480 with 2 Axes>"
      ]
     },
     "metadata": {},
     "output_type": "display_data"
    }
   ],
   "source": [
    "sns.heatmap(df.corr(), cmap=\"RdYlBu\", vmin=-1, center=0, annot=True, fmt=\".2f\")"
   ]
  },
  {
   "cell_type": "markdown",
   "id": "5417f17a",
   "metadata": {},
   "source": [
    "#### Dropping observations with missing values "
   ]
  },
  {
   "cell_type": "code",
   "execution_count": 6,
   "id": "93f19901",
   "metadata": {},
   "outputs": [
    {
     "data": {
      "text/plain": [
       "Gender                     0\n",
       "Age                        0\n",
       "Annual Income ($)          0\n",
       "Spending Score (1-100)     0\n",
       "Profession                35\n",
       "Work Experience            0\n",
       "Family Size                0\n",
       "dtype: int64"
      ]
     },
     "execution_count": 6,
     "metadata": {},
     "output_type": "execute_result"
    }
   ],
   "source": [
    "df.isnull().sum()"
   ]
  },
  {
   "cell_type": "code",
   "execution_count": 7,
   "id": "c016c6f0",
   "metadata": {},
   "outputs": [],
   "source": [
    "df.dropna(axis=0, subset=[\"Profession\"], inplace=True)"
   ]
  },
  {
   "cell_type": "code",
   "execution_count": 8,
   "id": "0f879561",
   "metadata": {},
   "outputs": [
    {
     "data": {
      "text/plain": [
       "array(['Healthcare', 'Engineer', 'Lawyer', 'Entertainment', 'Artist',\n",
       "       'Executive', 'Doctor', 'Homemaker', 'Marketing'], dtype=object)"
      ]
     },
     "execution_count": 8,
     "metadata": {},
     "output_type": "execute_result"
    }
   ],
   "source": [
    "df.Profession.unique()"
   ]
  },
  {
   "cell_type": "markdown",
   "id": "4f65969c",
   "metadata": {},
   "source": [
    "#### Dropping observations with absurd values "
   ]
  },
  {
   "cell_type": "code",
   "execution_count": 9,
   "id": "6fd44714",
   "metadata": {},
   "outputs": [
    {
     "data": {
      "text/html": [
       "<div>\n",
       "<style scoped>\n",
       "    .dataframe tbody tr th:only-of-type {\n",
       "        vertical-align: middle;\n",
       "    }\n",
       "\n",
       "    .dataframe tbody tr th {\n",
       "        vertical-align: top;\n",
       "    }\n",
       "\n",
       "    .dataframe thead th {\n",
       "        text-align: right;\n",
       "    }\n",
       "</style>\n",
       "<table border=\"1\" class=\"dataframe\">\n",
       "  <thead>\n",
       "    <tr style=\"text-align: right;\">\n",
       "      <th></th>\n",
       "      <th>Age</th>\n",
       "      <th>Annual Income ($)</th>\n",
       "      <th>Spending Score (1-100)</th>\n",
       "      <th>Work Experience</th>\n",
       "      <th>Family Size</th>\n",
       "    </tr>\n",
       "  </thead>\n",
       "  <tbody>\n",
       "    <tr>\n",
       "      <th>count</th>\n",
       "      <td>1965.000000</td>\n",
       "      <td>1965.000000</td>\n",
       "      <td>1965.000000</td>\n",
       "      <td>1965.000000</td>\n",
       "      <td>1965.000000</td>\n",
       "    </tr>\n",
       "    <tr>\n",
       "      <th>mean</th>\n",
       "      <td>48.894656</td>\n",
       "      <td>110616.009669</td>\n",
       "      <td>51.078880</td>\n",
       "      <td>4.092621</td>\n",
       "      <td>3.757252</td>\n",
       "    </tr>\n",
       "    <tr>\n",
       "      <th>std</th>\n",
       "      <td>28.414889</td>\n",
       "      <td>45833.860195</td>\n",
       "      <td>27.977176</td>\n",
       "      <td>3.926459</td>\n",
       "      <td>1.968335</td>\n",
       "    </tr>\n",
       "    <tr>\n",
       "      <th>min</th>\n",
       "      <td>0.000000</td>\n",
       "      <td>0.000000</td>\n",
       "      <td>0.000000</td>\n",
       "      <td>0.000000</td>\n",
       "      <td>1.000000</td>\n",
       "    </tr>\n",
       "    <tr>\n",
       "      <th>25%</th>\n",
       "      <td>25.000000</td>\n",
       "      <td>74350.000000</td>\n",
       "      <td>28.000000</td>\n",
       "      <td>1.000000</td>\n",
       "      <td>2.000000</td>\n",
       "    </tr>\n",
       "    <tr>\n",
       "      <th>50%</th>\n",
       "      <td>48.000000</td>\n",
       "      <td>109759.000000</td>\n",
       "      <td>50.000000</td>\n",
       "      <td>3.000000</td>\n",
       "      <td>4.000000</td>\n",
       "    </tr>\n",
       "    <tr>\n",
       "      <th>75%</th>\n",
       "      <td>73.000000</td>\n",
       "      <td>149095.000000</td>\n",
       "      <td>75.000000</td>\n",
       "      <td>7.000000</td>\n",
       "      <td>5.000000</td>\n",
       "    </tr>\n",
       "    <tr>\n",
       "      <th>max</th>\n",
       "      <td>99.000000</td>\n",
       "      <td>189974.000000</td>\n",
       "      <td>100.000000</td>\n",
       "      <td>17.000000</td>\n",
       "      <td>9.000000</td>\n",
       "    </tr>\n",
       "  </tbody>\n",
       "</table>\n",
       "</div>"
      ],
      "text/plain": [
       "               Age  Annual Income ($)  Spending Score (1-100)  \\\n",
       "count  1965.000000        1965.000000             1965.000000   \n",
       "mean     48.894656      110616.009669               51.078880   \n",
       "std      28.414889       45833.860195               27.977176   \n",
       "min       0.000000           0.000000                0.000000   \n",
       "25%      25.000000       74350.000000               28.000000   \n",
       "50%      48.000000      109759.000000               50.000000   \n",
       "75%      73.000000      149095.000000               75.000000   \n",
       "max      99.000000      189974.000000              100.000000   \n",
       "\n",
       "       Work Experience  Family Size  \n",
       "count      1965.000000  1965.000000  \n",
       "mean          4.092621     3.757252  \n",
       "std           3.926459     1.968335  \n",
       "min           0.000000     1.000000  \n",
       "25%           1.000000     2.000000  \n",
       "50%           3.000000     4.000000  \n",
       "75%           7.000000     5.000000  \n",
       "max          17.000000     9.000000  "
      ]
     },
     "execution_count": 9,
     "metadata": {},
     "output_type": "execute_result"
    }
   ],
   "source": [
    "df.describe()"
   ]
  },
  {
   "cell_type": "markdown",
   "id": "0b75e5e2",
   "metadata": {},
   "source": [
    "Since many observations include children and teenagers with multiple years of work experience in professions like healthcare, engineering, law, it would be logical to include only the observations with adults (18 years of age or older)."
   ]
  },
  {
   "cell_type": "code",
   "execution_count": 10,
   "id": "8dfd9df8",
   "metadata": {},
   "outputs": [
    {
     "data": {
      "text/plain": [
       "(1638, 7)"
      ]
     },
     "execution_count": 10,
     "metadata": {},
     "output_type": "execute_result"
    }
   ],
   "source": [
    "df = df[df.Age >= 18]\n",
    "df.shape"
   ]
  },
  {
   "cell_type": "markdown",
   "id": "f94e5670",
   "metadata": {},
   "source": [
    "#### One-hot encoding"
   ]
  },
  {
   "cell_type": "code",
   "execution_count": 11,
   "id": "023dbc2a",
   "metadata": {},
   "outputs": [],
   "source": [
    "df[\"Gender\"] = np.where(df[\"Gender\"]==\"Male\", 1, 0)"
   ]
  },
  {
   "cell_type": "code",
   "execution_count": 12,
   "id": "e2d73be7",
   "metadata": {},
   "outputs": [
    {
     "data": {
      "text/plain": [
       "array(['Healthcare', 'Engineer', 'Lawyer', 'Entertainment', 'Artist',\n",
       "       'Executive', 'Doctor', 'Homemaker', 'Marketing'], dtype=object)"
      ]
     },
     "execution_count": 12,
     "metadata": {},
     "output_type": "execute_result"
    }
   ],
   "source": [
    "df[\"Profession\"].unique()"
   ]
  },
  {
   "cell_type": "code",
   "execution_count": 13,
   "id": "ace020cb",
   "metadata": {},
   "outputs": [],
   "source": [
    "df[\"P_Healthcare\"] = np.where(df[\"Profession\"]==\"Healthcare\", 1, 0)\n",
    "df[\"P_Engineer\"] = np.where(df[\"Profession\"]==\"Engineer\", 1, 0)\n",
    "df[\"P_Lawyer\"] = np.where(df[\"Profession\"]==\"Lawyer\", 1, 0)\n",
    "df[\"P_Entertainment\"] = np.where(df[\"Profession\"]==\"Entertainment\", 1, 0)\n",
    "df[\"P_Artist\"] = np.where(df[\"Profession\"]==\"Artist\", 1, 0)\n",
    "df[\"P_Executive\"] = np.where(df[\"Profession\"]==\"Executive\", 1, 0)\n",
    "df[\"P_Doctor\"] = np.where(df[\"Profession\"]==\"Doctor\", 1, 0)\n",
    "df[\"P_Homemaker\"] = np.where(df[\"Profession\"]==\"Homemaker\", 1, 0)\n",
    "df[\"P_Marketing\"] = np.where(df[\"Profession\"]==\"Marketing\", 1, 0)"
   ]
  },
  {
   "cell_type": "code",
   "execution_count": 14,
   "id": "9af3e8ad",
   "metadata": {},
   "outputs": [],
   "source": [
    "df.drop(\"Profession\", axis=1, inplace=True)"
   ]
  },
  {
   "cell_type": "markdown",
   "id": "de7322b7",
   "metadata": {},
   "source": [
    "#### Creating Income Groups "
   ]
  },
  {
   "cell_type": "code",
   "execution_count": 15,
   "id": "bbe4665d",
   "metadata": {},
   "outputs": [],
   "source": [
    "df[\"Income Group\"] = 0\n",
    "df.loc[(df[\"Annual Income ($)\"]<=150000), \"Income Group\"] = \"Low/Middle Income\"\n",
    "#df.loc[((df[\"Annual Income ($)\"]>50000) & (df[\"Annual Income ($)\"]<=150000)), \"Income Group\"] = \"Middle Income\"\n",
    "df.loc[(df[\"Annual Income ($)\"]>150000), \"Income Group\"] = \"Upper Income\""
   ]
  },
  {
   "cell_type": "code",
   "execution_count": 16,
   "id": "0d9aaedd",
   "metadata": {},
   "outputs": [],
   "source": [
    "df.drop(\"Annual Income ($)\", axis=1, inplace=True)"
   ]
  },
  {
   "cell_type": "code",
   "execution_count": 17,
   "id": "f62d22de",
   "metadata": {},
   "outputs": [
    {
     "data": {
      "text/plain": [
       "Low/Middle Income    0.765568\n",
       "Upper Income         0.234432\n",
       "Name: Income Group, dtype: float64"
      ]
     },
     "execution_count": 17,
     "metadata": {},
     "output_type": "execute_result"
    }
   ],
   "source": [
    "df[\"Income Group\"].value_counts(normalize=True)"
   ]
  },
  {
   "cell_type": "code",
   "execution_count": 18,
   "id": "98e277c3",
   "metadata": {},
   "outputs": [
    {
     "data": {
      "text/html": [
       "<div>\n",
       "<style scoped>\n",
       "    .dataframe tbody tr th:only-of-type {\n",
       "        vertical-align: middle;\n",
       "    }\n",
       "\n",
       "    .dataframe tbody tr th {\n",
       "        vertical-align: top;\n",
       "    }\n",
       "\n",
       "    .dataframe thead th {\n",
       "        text-align: right;\n",
       "    }\n",
       "</style>\n",
       "<table border=\"1\" class=\"dataframe\">\n",
       "  <thead>\n",
       "    <tr style=\"text-align: right;\">\n",
       "      <th></th>\n",
       "      <th>Gender</th>\n",
       "      <th>Age</th>\n",
       "      <th>Spending Score (1-100)</th>\n",
       "      <th>Work Experience</th>\n",
       "      <th>Family Size</th>\n",
       "      <th>P_Healthcare</th>\n",
       "      <th>P_Engineer</th>\n",
       "      <th>P_Lawyer</th>\n",
       "      <th>P_Entertainment</th>\n",
       "      <th>P_Artist</th>\n",
       "      <th>P_Executive</th>\n",
       "      <th>P_Doctor</th>\n",
       "      <th>P_Homemaker</th>\n",
       "      <th>P_Marketing</th>\n",
       "      <th>Income Group</th>\n",
       "    </tr>\n",
       "  </thead>\n",
       "  <tbody>\n",
       "    <tr>\n",
       "      <th>0</th>\n",
       "      <td>1</td>\n",
       "      <td>19</td>\n",
       "      <td>39</td>\n",
       "      <td>1</td>\n",
       "      <td>4</td>\n",
       "      <td>1</td>\n",
       "      <td>0</td>\n",
       "      <td>0</td>\n",
       "      <td>0</td>\n",
       "      <td>0</td>\n",
       "      <td>0</td>\n",
       "      <td>0</td>\n",
       "      <td>0</td>\n",
       "      <td>0</td>\n",
       "      <td>Low/Middle Income</td>\n",
       "    </tr>\n",
       "    <tr>\n",
       "      <th>1</th>\n",
       "      <td>1</td>\n",
       "      <td>21</td>\n",
       "      <td>81</td>\n",
       "      <td>3</td>\n",
       "      <td>3</td>\n",
       "      <td>0</td>\n",
       "      <td>1</td>\n",
       "      <td>0</td>\n",
       "      <td>0</td>\n",
       "      <td>0</td>\n",
       "      <td>0</td>\n",
       "      <td>0</td>\n",
       "      <td>0</td>\n",
       "      <td>0</td>\n",
       "      <td>Low/Middle Income</td>\n",
       "    </tr>\n",
       "    <tr>\n",
       "      <th>2</th>\n",
       "      <td>0</td>\n",
       "      <td>20</td>\n",
       "      <td>6</td>\n",
       "      <td>1</td>\n",
       "      <td>1</td>\n",
       "      <td>0</td>\n",
       "      <td>1</td>\n",
       "      <td>0</td>\n",
       "      <td>0</td>\n",
       "      <td>0</td>\n",
       "      <td>0</td>\n",
       "      <td>0</td>\n",
       "      <td>0</td>\n",
       "      <td>0</td>\n",
       "      <td>Low/Middle Income</td>\n",
       "    </tr>\n",
       "    <tr>\n",
       "      <th>3</th>\n",
       "      <td>0</td>\n",
       "      <td>23</td>\n",
       "      <td>77</td>\n",
       "      <td>0</td>\n",
       "      <td>2</td>\n",
       "      <td>0</td>\n",
       "      <td>0</td>\n",
       "      <td>1</td>\n",
       "      <td>0</td>\n",
       "      <td>0</td>\n",
       "      <td>0</td>\n",
       "      <td>0</td>\n",
       "      <td>0</td>\n",
       "      <td>0</td>\n",
       "      <td>Low/Middle Income</td>\n",
       "    </tr>\n",
       "    <tr>\n",
       "      <th>4</th>\n",
       "      <td>0</td>\n",
       "      <td>31</td>\n",
       "      <td>40</td>\n",
       "      <td>2</td>\n",
       "      <td>6</td>\n",
       "      <td>0</td>\n",
       "      <td>0</td>\n",
       "      <td>0</td>\n",
       "      <td>1</td>\n",
       "      <td>0</td>\n",
       "      <td>0</td>\n",
       "      <td>0</td>\n",
       "      <td>0</td>\n",
       "      <td>0</td>\n",
       "      <td>Low/Middle Income</td>\n",
       "    </tr>\n",
       "  </tbody>\n",
       "</table>\n",
       "</div>"
      ],
      "text/plain": [
       "   Gender  Age  Spending Score (1-100)  Work Experience  Family Size  \\\n",
       "0       1   19                      39                1            4   \n",
       "1       1   21                      81                3            3   \n",
       "2       0   20                       6                1            1   \n",
       "3       0   23                      77                0            2   \n",
       "4       0   31                      40                2            6   \n",
       "\n",
       "   P_Healthcare  P_Engineer  P_Lawyer  P_Entertainment  P_Artist  P_Executive  \\\n",
       "0             1           0         0                0         0            0   \n",
       "1             0           1         0                0         0            0   \n",
       "2             0           1         0                0         0            0   \n",
       "3             0           0         1                0         0            0   \n",
       "4             0           0         0                1         0            0   \n",
       "\n",
       "   P_Doctor  P_Homemaker  P_Marketing       Income Group  \n",
       "0         0            0            0  Low/Middle Income  \n",
       "1         0            0            0  Low/Middle Income  \n",
       "2         0            0            0  Low/Middle Income  \n",
       "3         0            0            0  Low/Middle Income  \n",
       "4         0            0            0  Low/Middle Income  "
      ]
     },
     "execution_count": 18,
     "metadata": {},
     "output_type": "execute_result"
    }
   ],
   "source": [
    "df.head()"
   ]
  },
  {
   "cell_type": "markdown",
   "id": "1d38a7ac",
   "metadata": {},
   "source": [
    "## Building the Decision Tree"
   ]
  },
  {
   "cell_type": "code",
   "execution_count": 19,
   "id": "f7af2102",
   "metadata": {},
   "outputs": [],
   "source": [
    "class Node():\n",
    "    \n",
    "    def __init__(self, left=None, right=None, feature=None, threshold=None, information_gain=None, node_class=None, depth=None):\n",
    "        self.left = left\n",
    "        self.right = right\n",
    "        self.feature = feature\n",
    "        self.threshold = threshold\n",
    "        self.information_gain = information_gain\n",
    "        \n",
    "        self.node_class = node_class    \n",
    "        self.depth = depth"
   ]
  },
  {
   "cell_type": "code",
   "execution_count": 20,
   "id": "2a23a0bd",
   "metadata": {},
   "outputs": [],
   "source": [
    "class DecisionTree():\n",
    "    tree_depth = 0\n",
    "    def __init__(self, min_samples, max_depth, root=None):\n",
    "        self.root = None\n",
    "        self.min_samples = min_samples\n",
    "        self.max_depth = max_depth\n",
    "        \n",
    "    def GrowTree(self, data, depth):\n",
    "        \n",
    "        if self.CheckMinSamples(data, self.min_samples) and self.CheckMaxDepth(depth, self.max_depth):\n",
    "            information_gain = self.GetDecision(data)[\"information_gain\"]\n",
    "            feature = self.GetDecision(data)[\"feature\"]\n",
    "            threshold = self.GetDecision(data)[\"threshold\"]\n",
    "            if information_gain>0:\n",
    "                left_data = self.Split(data, feature, threshold)[\"left\"]\n",
    "                right_data = self.Split(data, feature, threshold)[\"right\"]\n",
    "                left = self.GrowTree(left_data, depth+1)\n",
    "                right = self.GrowTree(right_data, depth+1)\n",
    "                return Node(left, right, feature, threshold, information_gain, None, depth)\n",
    "  \n",
    "        return self.GetLeafNode(data, depth)\n",
    "    \n",
    "    def CheckMinSamples(self, data, min_samples):\n",
    "        if data.shape[0]>min_samples:\n",
    "            return True\n",
    "        else:\n",
    "            return False\n",
    "        \n",
    "    def CheckMaxDepth(self, current_depth, max_depth):\n",
    "        if current_depth < max_depth:\n",
    "            return True\n",
    "        else:\n",
    "            return False\n",
    "        \n",
    "    def GetDecision(self, data):\n",
    "        features = list(data.columns)\n",
    "        entropy = self.GetEntropy(data)\n",
    "        best_feature_index = None\n",
    "        best_feature = None\n",
    "        best_threshold = None\n",
    "        best_information_gain = -np.inf\n",
    "        \n",
    "        for feature in features[0:-1]:\n",
    "            thresholds = list(data[feature].unique())\n",
    "            for threshold in thresholds:\n",
    "                temp_information_gain = self.GetInformationGain(data, feature, threshold, \"gini\")\n",
    "                if temp_information_gain > best_information_gain:\n",
    "                    best_feature_index = features.index(feature)\n",
    "                    best_feature = feature\n",
    "                    best_threshold = threshold\n",
    "                    best_information_gain = temp_information_gain\n",
    "                else:\n",
    "                    continue\n",
    "                    \n",
    "        decision_dict = {\"feature\": best_feature, \"threshold\": best_threshold, \"information_gain\": best_information_gain}\n",
    "        return decision_dict\n",
    "    \n",
    "    def Split(self, data, feature, threshold):\n",
    "        left_data = data[data[feature]<=threshold]\n",
    "        right_data = data[data[feature]>threshold]\n",
    "        split_dict = {\"left\":left_data, \"right\":right_data}\n",
    "        return split_dict\n",
    "    \n",
    "    def GetEntropy(self, data):\n",
    "        class_probabilities = data.iloc[:,-1].value_counts(normalize=True)\n",
    "        entropy = np.dot(-class_probabilities,np.log2(class_probabilities))\n",
    "        return entropy\n",
    "    \n",
    "    def GetGini(self, data):\n",
    "        class_probabilities = data.iloc[:,-1].value_counts(normalize=True)\n",
    "        gini = 1 - np.sum(np.square(class_probabilities))\n",
    "        return gini\n",
    "    \n",
    "    def GetInformationGain(self, data, feature, threshold, gini=\"gini\"):\n",
    "        if gini==\"gini\":\n",
    "            parent_entropy = self.GetGini(data)\n",
    "        else:\n",
    "            parent_entropy = self.GetEntropy(data)\n",
    "        \n",
    "        left_data = self.Split(data, feature, threshold)[\"left\"]\n",
    "        proportion_left_data = (left_data.shape[0]/data.shape[0])\n",
    "        right_data = self.Split(data, feature, threshold)[\"right\"]\n",
    "        proportion_right_data = right_data.shape[0]/data.shape[0]\n",
    "        \n",
    "        if gini==\"gini\":\n",
    "            children_entropy = proportion_left_data*self.GetGini(left_data)+proportion_right_data*self.GetGini(right_data)\n",
    "        else:\n",
    "            children_entropy = proportion_left_data*self.GetEntropy(left_data)+proportion_right_data*self.GetEntropy(right_data)\n",
    "        \n",
    "        information_gain = parent_entropy-children_entropy\n",
    "        return information_gain\n",
    "    \n",
    "    def GetLeafNode(self, data, depth):\n",
    "        class_sizes = dict(data.iloc[:,-1].value_counts(ascending=False))\n",
    "        node_class = list(class_sizes.keys())[0]\n",
    "        leaf_node = Node(node_class=node_class, depth=depth)\n",
    "        return leaf_node\n",
    "        \n",
    "    def PrintTree(self, node):\n",
    "        if node.node_class!=None:\n",
    "            #return node.node_class\n",
    "            print(\"Level\", node.depth, \"Leaf Node: \", node.node_class)\n",
    "        else:\n",
    "            print(\"Level\", node.depth, \"Decision Node: \", node.feature, \"<=\", node.threshold)\n",
    "            self.PrintTree(node.left)\n",
    "            self.PrintTree(node.right)\n",
    "\n",
    "    def fit(self, data):\n",
    "        self.root = self.GrowTree(data, 1)\n",
    "        \n",
    "    def Predict(self, data, node):\n",
    "        predictions = []\n",
    "        for i in range(len(data)):\n",
    "            predictions.append(self.GetPrediction(data.iloc[i,0:-1], node))\n",
    "        predictions = pd.DataFrame(predictions, columns=[data.columns[-1]])\n",
    "        return predictions\n",
    "        \n",
    "    def GetPrediction(self, X, node):\n",
    "        if node.node_class != None:\n",
    "            return node.node_class\n",
    "        feature_value = X[node.feature]\n",
    "        if feature_value<=node.threshold:\n",
    "            return self.GetPrediction(X, node.left)\n",
    "        elif feature_value>node.threshold:\n",
    "            return self.GetPrediction(X, node.right)"
   ]
  },
  {
   "cell_type": "markdown",
   "id": "5d24b89c",
   "metadata": {},
   "source": [
    "## Fitting the model "
   ]
  },
  {
   "cell_type": "code",
   "execution_count": 21,
   "id": "d848e797",
   "metadata": {},
   "outputs": [],
   "source": [
    "X = df.iloc[:, :-1].values\n",
    "Y = df.iloc[:, -1].values\n",
    "X_train, X_test, Y_train, Y_test = train_test_split(X, Y, test_size=.30, random_state=40)"
   ]
  },
  {
   "cell_type": "code",
   "execution_count": 22,
   "id": "98735a49",
   "metadata": {},
   "outputs": [],
   "source": [
    "X_train, X_test, Y_train, Y_test  = pd.DataFrame(X_train), pd.DataFrame(X_test), pd.DataFrame(Y_train), pd.DataFrame(Y_test)\n",
    "X_train.columns = df.columns[0:-1]\n",
    "X_test.columns = df.columns[0:-1]\n",
    "Y_train.columns = [df.columns[-1]]\n",
    "Y_test.columns = [df.columns[-1]]\n",
    "training_dataset = pd.concat([X_train, Y_train], axis=1)\n",
    "testing_dataset = pd.concat([X_test, Y_test], axis=1)"
   ]
  },
  {
   "cell_type": "code",
   "execution_count": 23,
   "id": "a3cf6640",
   "metadata": {},
   "outputs": [],
   "source": [
    "DecisionTreeClassifier = DecisionTree(0.01*len(X_train), 4)"
   ]
  },
  {
   "cell_type": "code",
   "execution_count": 24,
   "id": "32e3b1e9",
   "metadata": {},
   "outputs": [
    {
     "name": "stdout",
     "output_type": "stream",
     "text": [
      "Level 1 Decision Node:  Family Size <= 4\n",
      "Level 2 Decision Node:  Work Experience <= 6\n",
      "Level 3 Decision Node:  Age <= 59\n",
      "Level 4 Leaf Node:  Low/Middle Income\n",
      "Level 4 Leaf Node:  Low/Middle Income\n",
      "Level 3 Decision Node:  Age <= 89\n",
      "Level 4 Leaf Node:  Low/Middle Income\n",
      "Level 4 Leaf Node:  Low/Middle Income\n",
      "Level 2 Decision Node:  Age <= 44\n",
      "Level 3 Decision Node:  Work Experience <= 6\n",
      "Level 4 Leaf Node:  Low/Middle Income\n",
      "Level 4 Leaf Node:  Upper Income\n",
      "Level 3 Decision Node:  Spending Score (1-100) <= 97\n",
      "Level 4 Leaf Node:  Low/Middle Income\n",
      "Level 4 Leaf Node:  Upper Income\n"
     ]
    }
   ],
   "source": [
    "DecisionTreeClassifier.fit(training_dataset)\n",
    "DecisionTreeClassifier.PrintTree(DecisionTreeClassifier.root)"
   ]
  },
  {
   "attachments": {
    "Decision%20Tree%20Structure-4.jpg": {
     "image/jpeg": "[encoded data removed]"
    }
   },
   "cell_type": "markdown",
   "id": "c07cc8bd",
   "metadata": {},
   "source": [
    "![Decision%20Tree%20Structure-4.jpg](attachment:Decision%20Tree%20Structure-4.jpg)"
   ]
  },
  {
   "cell_type": "markdown",
   "id": "6f401fdc",
   "metadata": {},
   "source": [
    "## Testing the Model"
   ]
  },
  {
   "cell_type": "code",
   "execution_count": 25,
   "id": "e66ff239",
   "metadata": {},
   "outputs": [],
   "source": [
    "train_predictions = DecisionTreeClassifier.Predict(training_dataset, DecisionTreeClassifier.root)\n",
    "test_predictions = DecisionTreeClassifier.Predict(testing_dataset, DecisionTreeClassifier.root)"
   ]
  },
  {
   "cell_type": "code",
   "execution_count": 26,
   "id": "ee8a9080",
   "metadata": {},
   "outputs": [
    {
     "name": "stdout",
     "output_type": "stream",
     "text": [
      "The decision tree achieved a training accuracy score of: 0.7661431064572426\n",
      "The decision tree achieved a testing accuracy score of: 0.7479674796747967\n"
     ]
    }
   ],
   "source": [
    "print(f\"The decision tree achieved a training accuracy score of: {accuracy_score(Y_train, train_predictions)}\")\n",
    "print(f\"The decision tree achieved a testing accuracy score of: {accuracy_score(Y_test, test_predictions)}\")"
   ]
  },
  {
   "cell_type": "markdown",
   "id": "56f20160",
   "metadata": {},
   "source": [
    "## The End"
   ]
  }
 ],
 "metadata": {
  "kernelspec": {
   "display_name": "Python 3 (ipykernel)",
   "language": "python",
   "name": "python3"
  },
  "language_info": {
   "codemirror_mode": {
    "name": "ipython",
    "version": 3
   },
   "file_extension": ".py",
   "mimetype": "text/x-python",
   "name": "python",
   "nbconvert_exporter": "python",
   "pygments_lexer": "ipython3",
   "version": "3.9.13"
  }
 },
 "nbformat": 4,
 "nbformat_minor": 5
}
